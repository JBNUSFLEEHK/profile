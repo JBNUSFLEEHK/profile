{
  "nbformat": 4,
  "nbformat_minor": 0,
  "metadata": {
    "colab": {
      "name": "스공기_9주차_강의자료",
      "provenance": [],
      "collapsed_sections": [],
      "include_colab_link": true
    },
    "kernelspec": {
      "name": "python3",
      "display_name": "Python 3"
    },
    "language_info": {
      "name": "python"
    }
  },
  "cells": [
    {
      "cell_type": "markdown",
      "metadata": {
        "id": "view-in-github",
        "colab_type": "text"
      },
      "source": [
        "<a href=\"https://colab.research.google.com/github/JBNUSFLEEHK/profile/blob/main/%EC%8A%A4%EA%B3%B5%EA%B8%B0_9%EC%A3%BC%EC%B0%A8_%EA%B0%95%EC%9D%98%EC%9E%90%EB%A3%8C.ipynb\" target=\"_parent\"><img src=\"https://colab.research.google.com/assets/colab-badge.svg\" alt=\"Open In Colab\"/></a>"
      ]
    },
    {
      "cell_type": "markdown",
      "source": [
        "# numpy를 활용한 행렬 계산\n"
      ],
      "metadata": {
        "id": "kdPSk9adN7jU"
      }
    },
    {
      "cell_type": "markdown",
      "source": [
        "## numpy 모듈 불러오기"
      ],
      "metadata": {
        "id": "ML3eCSOJOElN"
      }
    },
    {
      "cell_type": "code",
      "source": [
        "import numpy as np"
      ],
      "metadata": {
        "id": "6LyQrfuSNnQT"
      },
      "execution_count": 1,
      "outputs": []
    },
    {
      "cell_type": "markdown",
      "source": [
        "## 행렬 생성 및 비교"
      ],
      "metadata": {
        "id": "Em_rSV9yOvO7"
      }
    },
    {
      "cell_type": "code",
      "source": [
        "ar = np.array([0, 1, 2, 3, 4, 5, 6, 7, 8, 9]) # 1차원 행렬\n",
        "ar"
      ],
      "metadata": {
        "id": "PfjRK_clPscM",
        "outputId": "6ad32dfe-7d0e-4d32-e8d4-3f74c34124a6",
        "colab": {
          "base_uri": "https://localhost:8080/"
        }
      },
      "execution_count": 2,
      "outputs": [
        {
          "output_type": "execute_result",
          "data": {
            "text/plain": [
              "array([0, 1, 2, 3, 4, 5, 6, 7, 8, 9])"
            ]
          },
          "metadata": {},
          "execution_count": 2
        }
      ]
    },
    {
      "cell_type": "code",
      "source": [
        "c = np.array([[0, 1, 2], [3, 4, 5]])  # 2 x 3 array\n",
        "c"
      ],
      "metadata": {
        "id": "6PP3a4K8PwZ-",
        "outputId": "cde4c75d-8e7a-464c-dff9-9c50d068bf16",
        "colab": {
          "base_uri": "https://localhost:8080/"
        }
      },
      "execution_count": 3,
      "outputs": [
        {
          "output_type": "execute_result",
          "data": {
            "text/plain": [
              "array([[0, 1, 2],\n",
              "       [3, 4, 5]])"
            ]
          },
          "metadata": {},
          "execution_count": 3
        }
      ]
    },
    {
      "cell_type": "code",
      "source": [
        "# 행렬의 크기\n",
        "print(c.shape)\n"
      ],
      "metadata": {
        "id": "vyTUZgsZP00e",
        "outputId": "c4274790-824e-4ea3-df6a-9b513e21a712",
        "colab": {
          "base_uri": "https://localhost:8080/"
        }
      },
      "execution_count": 4,
      "outputs": [
        {
          "output_type": "stream",
          "name": "stdout",
          "text": [
            "(2, 3)\n"
          ]
        }
      ]
    },
    {
      "cell_type": "code",
      "source": [
        "a = np.array([1, 2, 3, 4])\n",
        "b = np.array([4, 2, 2, 4])\n",
        "c = np.array([1, 2, 3, 4])"
      ],
      "metadata": {
        "id": "gYl5TeXZOy1Z"
      },
      "execution_count": 5,
      "outputs": []
    },
    {
      "cell_type": "code",
      "source": [
        "a"
      ],
      "metadata": {
        "id": "j1fu4cJuO3_l"
      },
      "execution_count": null,
      "outputs": []
    },
    {
      "cell_type": "code",
      "source": [
        "np.allclose(a, b)"
      ],
      "metadata": {
        "id": "ABf5pa0vO46D",
        "outputId": "c7a842c9-7f2c-4e0e-e03c-c3dd64a86551",
        "colab": {
          "base_uri": "https://localhost:8080/"
        }
      },
      "execution_count": 7,
      "outputs": [
        {
          "output_type": "execute_result",
          "data": {
            "text/plain": [
              "False"
            ]
          },
          "metadata": {},
          "execution_count": 7
        }
      ]
    },
    {
      "cell_type": "markdown",
      "source": [
        "## 행렬 (슬라이싱)"
      ],
      "metadata": {
        "id": "pDHtUnrUP822"
      }
    },
    {
      "cell_type": "code",
      "source": [
        "a = np.array([[0, 1, 2, 3], [4, 5, 6, 7]])\n",
        "a"
      ],
      "metadata": {
        "id": "ZRN6kZkTQEP6",
        "outputId": "b3bd5317-15a8-47aa-ffe1-4b24c8eb66e3",
        "colab": {
          "base_uri": "https://localhost:8080/"
        }
      },
      "execution_count": 8,
      "outputs": [
        {
          "output_type": "execute_result",
          "data": {
            "text/plain": [
              "array([[0, 1, 2, 3],\n",
              "       [4, 5, 6, 7]])"
            ]
          },
          "metadata": {},
          "execution_count": 8
        }
      ]
    },
    {
      "cell_type": "code",
      "source": [
        "a[0, :]  # 첫번째 행 전체"
      ],
      "metadata": {
        "id": "oqiVqzEEQICg",
        "outputId": "af9e4707-390c-46cc-88a9-0e7c82f612f4",
        "colab": {
          "base_uri": "https://localhost:8080/"
        }
      },
      "execution_count": 9,
      "outputs": [
        {
          "output_type": "execute_result",
          "data": {
            "text/plain": [
              "array([0, 1, 2, 3])"
            ]
          },
          "metadata": {},
          "execution_count": 9
        }
      ]
    },
    {
      "cell_type": "code",
      "source": [
        "a[:, 1]  # 두번째 열 전체"
      ],
      "metadata": {
        "id": "09f6Ih3eQIjw",
        "outputId": "8f8e21e0-d7a5-45ce-e205-c60979da1d8b",
        "colab": {
          "base_uri": "https://localhost:8080/"
        }
      },
      "execution_count": 10,
      "outputs": [
        {
          "output_type": "execute_result",
          "data": {
            "text/plain": [
              "array([1, 5])"
            ]
          },
          "metadata": {},
          "execution_count": 10
        }
      ]
    },
    {
      "cell_type": "code",
      "source": [
        "a[1, 1:]  # 두번째 행의 두번째 열부터 끝열까지"
      ],
      "metadata": {
        "id": "yDA08JzoQKqB"
      },
      "execution_count": null,
      "outputs": []
    },
    {
      "cell_type": "code",
      "source": [
        "a[:2, :2]"
      ],
      "metadata": {
        "id": "6mEWmfOMQN35",
        "outputId": "77b467c4-0256-4a91-ac1c-1d94b3ecbf64",
        "colab": {
          "base_uri": "https://localhost:8080/"
        }
      },
      "execution_count": 12,
      "outputs": [
        {
          "output_type": "execute_result",
          "data": {
            "text/plain": [
              "array([[0, 1],\n",
              "       [4, 5]])"
            ]
          },
          "metadata": {},
          "execution_count": 12
        }
      ]
    },
    {
      "cell_type": "markdown",
      "source": [
        "## 계산속도 비교하기 (벡터화)"
      ],
      "metadata": {
        "id": "eQlLi_j7Npx3"
      }
    },
    {
      "cell_type": "code",
      "execution_count": 13,
      "metadata": {
        "id": "tfkWNutuMtdI"
      },
      "outputs": [],
      "source": [
        "x = np.arange(1, 10001)\n",
        "y = np.arange(10001, 20001)"
      ]
    },
    {
      "cell_type": "code",
      "source": [
        "%%time\n",
        "z = np.zeros_like(x)\n",
        "for i in range(10000):\n",
        "    z[i] = x[i] + y[i]"
      ],
      "metadata": {
        "id": "iwldhXGsM1wf",
        "outputId": "240f8d7d-c2fc-438c-aae4-0bbd57d74f5f",
        "colab": {
          "base_uri": "https://localhost:8080/"
        }
      },
      "execution_count": 14,
      "outputs": [
        {
          "output_type": "stream",
          "name": "stdout",
          "text": [
            "CPU times: user 8.16 ms, sys: 0 ns, total: 8.16 ms\n",
            "Wall time: 9.85 ms\n"
          ]
        }
      ]
    },
    {
      "cell_type": "code",
      "source": [
        "%%time\n",
        "z = x + y"
      ],
      "metadata": {
        "id": "lUlDrnSRM5E0",
        "outputId": "e9bad7bf-460a-450d-f212-85d3e8c2a2af",
        "colab": {
          "base_uri": "https://localhost:8080/"
        }
      },
      "execution_count": 15,
      "outputs": [
        {
          "output_type": "stream",
          "name": "stdout",
          "text": [
            "CPU times: user 121 µs, sys: 0 ns, total: 121 µs\n",
            "Wall time: 127 µs\n"
          ]
        }
      ]
    },
    {
      "cell_type": "markdown",
      "source": [
        "## 중간고사 풀어보기"
      ],
      "metadata": {
        "id": "0aCOt8GZQZKE"
      }
    },
    {
      "cell_type": "markdown",
      "source": [
        "### 52. 고유값과 고유 벡터\n",
        "\n",
        "$\\begin{pmatrix}2&1\\\\1&2\\\\ \\end{pmatrix}$\n"
      ],
      "metadata": {
        "id": "OjwDnNpjQjFQ"
      }
    },
    {
      "cell_type": "code",
      "source": [
        "# 문제행렬 정의하기\n",
        "mat_a = np.array([[2,1],[1,2]])"
      ],
      "metadata": {
        "id": "_plaDYTeQb6J"
      },
      "execution_count": 18,
      "outputs": []
    },
    {
      "cell_type": "code",
      "source": [
        "# 고유치 계산하기\n",
        "np.linalg.eig(mat_a)"
      ],
      "metadata": {
        "id": "Vtt8AwUORMSK",
        "outputId": "31be7b2d-f960-4e9d-d6fd-fb58615f5564",
        "colab": {
          "base_uri": "https://localhost:8080/"
        }
      },
      "execution_count": 19,
      "outputs": [
        {
          "output_type": "execute_result",
          "data": {
            "text/plain": [
              "(array([3., 1.]), array([[ 0.70710678, -0.70710678],\n",
              "        [ 0.70710678,  0.70710678]]))"
            ]
          },
          "metadata": {},
          "execution_count": 19
        }
      ]
    },
    {
      "cell_type": "code",
      "source": [
        "#고유치\n",
        "np.linalg.eig(mat_a)[0]"
      ],
      "metadata": {
        "id": "2w9iTQ6iRPhu",
        "outputId": "0874cf97-db2f-4eae-ee0b-62221892e733",
        "colab": {
          "base_uri": "https://localhost:8080/"
        }
      },
      "execution_count": 22,
      "outputs": [
        {
          "output_type": "execute_result",
          "data": {
            "text/plain": [
              "array([3., 1.])"
            ]
          },
          "metadata": {},
          "execution_count": 22
        }
      ]
    },
    {
      "cell_type": "code",
      "source": [
        "#고유행렬\n",
        "np.linalg.eig(mat_a)[1][:,0]"
      ],
      "metadata": {
        "id": "gspQ_RhtRQ5i",
        "outputId": "63243be3-9e77-4f67-c32a-169c35ccf11e",
        "colab": {
          "base_uri": "https://localhost:8080/"
        }
      },
      "execution_count": 24,
      "outputs": [
        {
          "output_type": "execute_result",
          "data": {
            "text/plain": [
              "array([0.70710678, 0.70710678])"
            ]
          },
          "metadata": {},
          "execution_count": 24
        }
      ]
    },
    {
      "cell_type": "markdown",
      "source": [
        "### 54. 행렬식\n",
        "$\\begin{vmatrix}1&4&0\\\\4&8&3\\\\ -1&0&2\\end{vmatrix}$\n"
      ],
      "metadata": {
        "id": "MFXjDKk3Rc7F"
      }
    },
    {
      "cell_type": "code",
      "source": [
        "# 행렬식 계산\n",
        "mat_a = np.array([[1,4,0],[4,8,3],[-1,0,2]])\n",
        "np.linalg.det(mat_a)"
      ],
      "metadata": {
        "id": "OzYTtctdRcgx",
        "outputId": "3cd90c37-89e0-4b9f-e579-7956b98ef102",
        "colab": {
          "base_uri": "https://localhost:8080/"
        }
      },
      "execution_count": 25,
      "outputs": [
        {
          "output_type": "execute_result",
          "data": {
            "text/plain": [
              "-27.999999999999996"
            ]
          },
          "metadata": {},
          "execution_count": 25
        }
      ]
    },
    {
      "cell_type": "markdown",
      "source": [
        "### 55. 행렬식 구하시오.\n",
        "$\\begin{vmatrix}2&0&-4&6\\\\0&4&9.1&0\\\\ 0&0&5&5.8\\\\ 0&0&0&3\\end{vmatrix}$\n"
      ],
      "metadata": {
        "id": "rgwi17rkR3k2"
      }
    },
    {
      "cell_type": "code",
      "source": [
        "# 행렬식 계산\n",
        "mat_a = np.array([[2, 0, -4, 6],[0,4,9.1,0],[0,0,5,5.8],[0,0,0,3]])\n",
        "np.linalg.det(mat_a)"
      ],
      "metadata": {
        "id": "koA4YZvmR2rW",
        "outputId": "3efad0cf-5085-4753-a140-ae5a25d5090d",
        "colab": {
          "base_uri": "https://localhost:8080/"
        }
      },
      "execution_count": 26,
      "outputs": [
        {
          "output_type": "execute_result",
          "data": {
            "text/plain": [
              "119.99999999999997"
            ]
          },
          "metadata": {},
          "execution_count": 26
        }
      ]
    },
    {
      "cell_type": "markdown",
      "source": [
        "### 56. 역행렬\n",
        "$\\begin{bmatrix}4&1\\\\3&2\\\\ \\end{bmatrix}$\n"
      ],
      "metadata": {
        "id": "ue5MuwYuSPkN"
      }
    },
    {
      "cell_type": "code",
      "source": [
        "mat_a = np.array([[4,1],[3,2]])\n",
        "np.linalg.inv(mat_a)@mat_a"
      ],
      "metadata": {
        "id": "bCKmD0esSZAQ",
        "outputId": "5aebc2e7-f3a4-4418-9273-07213d1e4ed2",
        "colab": {
          "base_uri": "https://localhost:8080/"
        }
      },
      "execution_count": 27,
      "outputs": [
        {
          "output_type": "execute_result",
          "data": {
            "text/plain": [
              "array([[ 1.00000000e+00,  0.00000000e+00],\n",
              "       [-2.22044605e-16,  1.00000000e+00]])"
            ]
          },
          "metadata": {},
          "execution_count": 27
        }
      ]
    },
    {
      "cell_type": "markdown",
      "source": [
        "### 57. 크래머 룰\n",
        "$\\begin{cases}\n",
        "2x-4y &=&24\\\\\n",
        "5x+2y &=&0\n",
        "\\end{cases}$"
      ],
      "metadata": {
        "id": "CV5Vu1iLSdfL"
      }
    },
    {
      "cell_type": "markdown",
      "source": [
        "$x_1 = \\frac{\\begin{vmatrix}24 & -4 \\\\ 0 &2\\end{vmatrix}}{\\begin{vmatrix}2 & -4 \\\\ 5 &2\\end{vmatrix}}$"
      ],
      "metadata": {
        "id": "zjmyEx8ySzJB"
      }
    },
    {
      "cell_type": "code",
      "source": [
        "mat_a = np.array([[2,-4],[5,2]])\n",
        "vec_b = np.array([24,0])\n",
        "mat_a\n",
        "\n",
        "d = np.linalg.det(mat_a)\n",
        "mat_x1 = mat_a.copy()\n",
        "mat_x1[:,0] = vec_b\n",
        "mat_x2 = mat_a.copy()\n",
        "mat_x2[:,1] = vec_b\n",
        "\n",
        "d1 = np.linalg.det(mat_a)\n",
        "d2 = np.linalg.det(mat_a)\n",
        "\n",
        "x1 = d1/d\n",
        "x2 = d2/d\n",
        "print(x1, x2)"
      ],
      "metadata": {
        "id": "ANXDSJC4TRsy",
        "outputId": "fbbf39c7-1aab-493e-f7a2-3b6608246b0a",
        "colab": {
          "base_uri": "https://localhost:8080/"
        }
      },
      "execution_count": 28,
      "outputs": [
        {
          "output_type": "stream",
          "name": "stdout",
          "text": [
            "1.0 1.0\n"
          ]
        }
      ]
    },
    {
      "cell_type": "code",
      "source": [
        "# 행렬 풀이: np.linalg.solve(mat_a, vec_b)\n"
      ],
      "metadata": {
        "id": "C8dipewCTStS"
      },
      "execution_count": 31,
      "outputs": []
    },
    {
      "cell_type": "markdown",
      "source": [
        "### 58. 연립방정식 풀이\n",
        "$\\begin{cases}\n",
        "x_1&-&x_2&+&x_3&=&0\\\\\n",
        "-x_1 & +& x_2 & -& x_3 & = & 0\\\\\n",
        "&&10x_2 & +& 25x_3 & = & 90\\\\\n",
        "20x_1 & +& 10x_2 & & & = &80\\\\\n",
        "\\end{cases}$"
      ],
      "metadata": {
        "id": "ZuLu9V3DTlZR"
      }
    },
    {
      "cell_type": "code",
      "source": [
        "mat_a = np.array([[1,-1,1],[0,10,25],[20,10,0]])\n",
        "vec_b = np.array([0,90,80])\n",
        "\n",
        "np.linalg.solve(mat_a, vec_b)"
      ],
      "metadata": {
        "id": "bh6KEFHeUKnp",
        "outputId": "1da7c1f8-13c4-4fd4-aa2b-5948e9d6f47b",
        "colab": {
          "base_uri": "https://localhost:8080/"
        }
      },
      "execution_count": 32,
      "outputs": [
        {
          "output_type": "execute_result",
          "data": {
            "text/plain": [
              "array([2., 4., 2.])"
            ]
          },
          "metadata": {},
          "execution_count": 32
        }
      ]
    },
    {
      "cell_type": "markdown",
      "source": [
        "### 59. 역행렬 구하기\n",
        "$\\begin{bmatrix}2&-1&0\\\\1&0&-1\\\\1&0&1 \\end{bmatrix}$\n"
      ],
      "metadata": {
        "id": "dEpqI07OUNby"
      }
    },
    {
      "cell_type": "code",
      "source": [
        "mat_a = np.array([[2,-1,0],[1,0,-1],[1,0,1]])\n",
        "mat_a_inv = np.linalg.inv(mat_a)\n",
        "mat_a_inv\n"
      ],
      "metadata": {
        "id": "wNIK6LBtUXKd",
        "outputId": "8473d9b3-b9a1-4368-a894-24f28f7e61ca",
        "colab": {
          "base_uri": "https://localhost:8080/"
        }
      },
      "execution_count": 33,
      "outputs": [
        {
          "output_type": "execute_result",
          "data": {
            "text/plain": [
              "array([[ 0. ,  0.5,  0.5],\n",
              "       [-1. ,  1. ,  1. ],\n",
              "       [ 0. , -0.5,  0.5]])"
            ]
          },
          "metadata": {},
          "execution_count": 33
        }
      ]
    },
    {
      "cell_type": "code",
      "source": [
        "np.linalg.inv(mat_a) @ mat_a"
      ],
      "metadata": {
        "id": "1ZW3LftbGEIj",
        "outputId": "1fd7a57e-d2e6-440c-aa99-c9008247f77a",
        "colab": {
          "base_uri": "https://localhost:8080/"
        }
      },
      "execution_count": 34,
      "outputs": [
        {
          "output_type": "execute_result",
          "data": {
            "text/plain": [
              "array([[1., 0., 0.],\n",
              "       [0., 1., 0.],\n",
              "       [0., 0., 1.]])"
            ]
          },
          "metadata": {},
          "execution_count": 34
        }
      ]
    }
  ]
}